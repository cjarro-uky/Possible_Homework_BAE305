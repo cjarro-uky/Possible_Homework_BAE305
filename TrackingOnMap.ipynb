{
 "cells": [
  {
   "cell_type": "code",
   "execution_count": 20,
   "id": "84af0edf-5981-4d2e-a1ba-7518a80d0f31",
   "metadata": {},
   "outputs": [],
   "source": [
    "import folium\n",
    "from IPython.display import IFrame\n",
    "\n",
    "# Function to create a map and mark the objects' locations with time annotations\n",
    "def locate_objects_with_time(locations, times):\n",
    "    # Create a map centered around the first object's location\n",
    "    map_objects = folium.Map(location=locations[0], zoom_start=15)\n",
    "    \n",
    "    # Add markers for each object's location with time annotations\n",
    "    for idx, (location, time) in enumerate(zip(locations, times)):\n",
    "        popup_text = f\"Object {idx+1} Location\\nTime: {time}\"\n",
    "        folium.Marker(location=location, popup=popup_text).add_to(map_objects)\n",
    "    \n",
    "    # Display the map\n",
    "    map_objects.save(\"objects_location_with_time.html\")  # Save the map as an HTML file\n",
    "\n",
    "# Example locations (latitude and longitude coordinates)\n",
    "locations = [\n",
    "    (37.89074092260613, -84.78058567420386),  # New York City\n",
    "    (37.89003436870111, -84.76670370970105),  # Los Angeles\n",
    "]\n",
    "\n",
    "# Example times corresponding to each location\n",
    "times = [\n",
    "    \"2024-03-28 10:00 AM\",\n",
    "    \"2024-03-28 12:30 PM\",\n",
    "]\n",
    "\n",
    "# Call the function to locate the objects on the map with time annotations\n",
    "locate_objects_with_time(locations, times)\n",
    "# Replace 'path_to_html_file' with the actual path to your HTML file\n",
    "IFrame(src='objects_location_with_time.html', width=700, height=600)"
   ]
  },
  {
   "cell_type": "code",
   "execution_count": 22,
   "id": "b6fe8054-8a93-4119-8e81-6734c493430f",
   "metadata": {},
   "outputs": [
    {
     "data": {
      "text/html": [
       "\n",
       "        <iframe\n",
       "            width=\"700\"\n",
       "            height=\"600\"\n",
       "            src=\"objects_location_with_time.html\"\n",
       "            frameborder=\"0\"\n",
       "            allowfullscreen\n",
       "            \n",
       "        ></iframe>\n",
       "        "
      ],
      "text/plain": [
       "<IPython.lib.display.IFrame at 0x7f1945ef4910>"
      ]
     },
     "execution_count": 22,
     "metadata": {},
     "output_type": "execute_result"
    }
   ],
   "source": []
  },
  {
   "cell_type": "code",
   "execution_count": null,
   "id": "3c768126-0741-4091-92d1-e0d9eb802d1f",
   "metadata": {},
   "outputs": [],
   "source": []
  }
 ],
 "metadata": {
  "kernelspec": {
   "display_name": "anaconda-panel-2023.05-py310",
   "language": "python",
   "name": "conda-env-anaconda-panel-2023.05-py310-py"
  },
  "language_info": {
   "codemirror_mode": {
    "name": "ipython",
    "version": 3
   },
   "file_extension": ".py",
   "mimetype": "text/x-python",
   "name": "python",
   "nbconvert_exporter": "python",
   "pygments_lexer": "ipython3",
   "version": "3.11.5"
  }
 },
 "nbformat": 4,
 "nbformat_minor": 5
}
